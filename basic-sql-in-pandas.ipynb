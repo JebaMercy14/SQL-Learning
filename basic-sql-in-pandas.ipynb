{
 "cells": [
  {
   "cell_type": "markdown",
   "id": "2f6292f7",
   "metadata": {
    "papermill": {
     "duration": 0.016634,
     "end_time": "2023-11-12T13:03:30.941605",
     "exception": false,
     "start_time": "2023-11-12T13:03:30.924971",
     "status": "completed"
    },
    "tags": []
   },
   "source": [
    "# Rewrite Basic SQL Queries in Pandas\n",
    "\n",
    "Topic covered:\n",
    "\n",
    "* Read the `titles.csv` into Jupyter Notebook\n",
    "* Convert a simple SQL query (SELECT / FROM / WHERE / ORDER by) into Pandas query.\n",
    "* Illustrate steps to refactor the Pandas query into more modular form\n",
    "* Convert a simple SQL aggregation query (SELECT / COUNT(`*`) / GROUP BY / HAVING / ORDER BY) into Pandas query\n",
    "* Wrap up: export SQL query output as CSV files"
   ]
  },
  {
   "cell_type": "code",
   "execution_count": 1,
   "id": "88bd007b",
   "metadata": {
    "_cell_guid": "b1076dfc-b9ad-4769-8c92-a6c4dae69d19",
    "_uuid": "8f2839f25d086af736a60e9eeb907d3b93b6e0e5",
    "execution": {
     "iopub.execute_input": "2023-11-12T13:03:30.970281Z",
     "iopub.status.busy": "2023-11-12T13:03:30.969685Z",
     "iopub.status.idle": "2023-11-12T13:03:30.987907Z",
     "shell.execute_reply": "2023-11-12T13:03:30.986024Z"
    },
    "papermill": {
     "duration": 0.036847,
     "end_time": "2023-11-12T13:03:30.991306",
     "exception": false,
     "start_time": "2023-11-12T13:03:30.954459",
     "status": "completed"
    },
    "tags": []
   },
   "outputs": [],
   "source": [
    "# Import the standard scientific libraries\n",
    "import pandas as pd\n",
    "import numpy as np"
   ]
  },
  {
   "cell_type": "code",
   "execution_count": 2,
   "id": "7f8db9c4",
   "metadata": {
    "execution": {
     "iopub.execute_input": "2023-11-12T13:03:31.020084Z",
     "iopub.status.busy": "2023-11-12T13:03:31.019572Z",
     "iopub.status.idle": "2023-11-12T13:03:31.134926Z",
     "shell.execute_reply": "2023-11-12T13:03:31.133529Z"
    },
    "papermill": {
     "duration": 0.134299,
     "end_time": "2023-11-12T13:03:31.138619",
     "exception": false,
     "start_time": "2023-11-12T13:03:31.004320",
     "status": "completed"
    },
    "tags": []
   },
   "outputs": [],
   "source": [
    "# Read CSV into a Pandas DataFrame\n",
    "df = pd.read_csv(\"../input/netflix-tv-shows-and-movies/titles.csv\")"
   ]
  },
  {
   "cell_type": "markdown",
   "id": "0000008b",
   "metadata": {
    "papermill": {
     "duration": 0.012932,
     "end_time": "2023-11-12T13:03:31.164612",
     "exception": false,
     "start_time": "2023-11-12T13:03:31.151680",
     "status": "completed"
    },
    "tags": []
   },
   "source": [
    "So far we have used the default parameters when reading the CSV with `pd.read_csv()`. This is fine for initial analysis. You can however be more prescrptive such as manually defining column names, column data-types, delimiter, and more. If you are curious please refer to: https://pandas.pydata.org/docs/reference/api/pandas.read_csv.html"
   ]
  },
  {
   "cell_type": "code",
   "execution_count": 3,
   "id": "6dee5854",
   "metadata": {
    "execution": {
     "iopub.execute_input": "2023-11-12T13:03:31.193637Z",
     "iopub.status.busy": "2023-11-12T13:03:31.193131Z",
     "iopub.status.idle": "2023-11-12T13:03:31.204905Z",
     "shell.execute_reply": "2023-11-12T13:03:31.203053Z"
    },
    "papermill": {
     "duration": 0.032204,
     "end_time": "2023-11-12T13:03:31.210118",
     "exception": false,
     "start_time": "2023-11-12T13:03:31.177914",
     "status": "completed"
    },
    "tags": []
   },
   "outputs": [
    {
     "data": {
      "text/plain": [
       "pandas.core.frame.DataFrame"
      ]
     },
     "execution_count": 3,
     "metadata": {},
     "output_type": "execute_result"
    }
   ],
   "source": [
    "type(df)"
   ]
  },
  {
   "cell_type": "code",
   "execution_count": 4,
   "id": "42794756",
   "metadata": {
    "execution": {
     "iopub.execute_input": "2023-11-12T13:03:31.239807Z",
     "iopub.status.busy": "2023-11-12T13:03:31.238989Z",
     "iopub.status.idle": "2023-11-12T13:03:31.271533Z",
     "shell.execute_reply": "2023-11-12T13:03:31.270524Z"
    },
    "papermill": {
     "duration": 0.050964,
     "end_time": "2023-11-12T13:03:31.274327",
     "exception": false,
     "start_time": "2023-11-12T13:03:31.223363",
     "status": "completed"
    },
    "tags": []
   },
   "outputs": [
    {
     "data": {
      "text/html": [
       "<div>\n",
       "<style scoped>\n",
       "    .dataframe tbody tr th:only-of-type {\n",
       "        vertical-align: middle;\n",
       "    }\n",
       "\n",
       "    .dataframe tbody tr th {\n",
       "        vertical-align: top;\n",
       "    }\n",
       "\n",
       "    .dataframe thead th {\n",
       "        text-align: right;\n",
       "    }\n",
       "</style>\n",
       "<table border=\"1\" class=\"dataframe\">\n",
       "  <thead>\n",
       "    <tr style=\"text-align: right;\">\n",
       "      <th></th>\n",
       "      <th>id</th>\n",
       "      <th>title</th>\n",
       "      <th>type</th>\n",
       "      <th>description</th>\n",
       "      <th>release_year</th>\n",
       "      <th>age_certification</th>\n",
       "      <th>runtime</th>\n",
       "      <th>genres</th>\n",
       "      <th>production_countries</th>\n",
       "      <th>seasons</th>\n",
       "      <th>imdb_id</th>\n",
       "      <th>imdb_score</th>\n",
       "      <th>imdb_votes</th>\n",
       "      <th>tmdb_popularity</th>\n",
       "      <th>tmdb_score</th>\n",
       "    </tr>\n",
       "  </thead>\n",
       "  <tbody>\n",
       "    <tr>\n",
       "      <th>0</th>\n",
       "      <td>ts300399</td>\n",
       "      <td>Five Came Back: The Reference Films</td>\n",
       "      <td>SHOW</td>\n",
       "      <td>This collection includes 12 World War II-era p...</td>\n",
       "      <td>1945</td>\n",
       "      <td>TV-MA</td>\n",
       "      <td>51</td>\n",
       "      <td>['documentation']</td>\n",
       "      <td>['US']</td>\n",
       "      <td>1.0</td>\n",
       "      <td>NaN</td>\n",
       "      <td>NaN</td>\n",
       "      <td>NaN</td>\n",
       "      <td>0.600</td>\n",
       "      <td>NaN</td>\n",
       "    </tr>\n",
       "    <tr>\n",
       "      <th>1</th>\n",
       "      <td>tm84618</td>\n",
       "      <td>Taxi Driver</td>\n",
       "      <td>MOVIE</td>\n",
       "      <td>A mentally unstable Vietnam War veteran works ...</td>\n",
       "      <td>1976</td>\n",
       "      <td>R</td>\n",
       "      <td>114</td>\n",
       "      <td>['drama', 'crime']</td>\n",
       "      <td>['US']</td>\n",
       "      <td>NaN</td>\n",
       "      <td>tt0075314</td>\n",
       "      <td>8.2</td>\n",
       "      <td>808582.0</td>\n",
       "      <td>40.965</td>\n",
       "      <td>8.179</td>\n",
       "    </tr>\n",
       "    <tr>\n",
       "      <th>2</th>\n",
       "      <td>tm154986</td>\n",
       "      <td>Deliverance</td>\n",
       "      <td>MOVIE</td>\n",
       "      <td>Intent on seeing the Cahulawassee River before...</td>\n",
       "      <td>1972</td>\n",
       "      <td>R</td>\n",
       "      <td>109</td>\n",
       "      <td>['drama', 'action', 'thriller', 'european']</td>\n",
       "      <td>['US']</td>\n",
       "      <td>NaN</td>\n",
       "      <td>tt0068473</td>\n",
       "      <td>7.7</td>\n",
       "      <td>107673.0</td>\n",
       "      <td>10.010</td>\n",
       "      <td>7.300</td>\n",
       "    </tr>\n",
       "    <tr>\n",
       "      <th>3</th>\n",
       "      <td>tm127384</td>\n",
       "      <td>Monty Python and the Holy Grail</td>\n",
       "      <td>MOVIE</td>\n",
       "      <td>King Arthur, accompanied by his squire, recrui...</td>\n",
       "      <td>1975</td>\n",
       "      <td>PG</td>\n",
       "      <td>91</td>\n",
       "      <td>['fantasy', 'action', 'comedy']</td>\n",
       "      <td>['GB']</td>\n",
       "      <td>NaN</td>\n",
       "      <td>tt0071853</td>\n",
       "      <td>8.2</td>\n",
       "      <td>534486.0</td>\n",
       "      <td>15.461</td>\n",
       "      <td>7.811</td>\n",
       "    </tr>\n",
       "    <tr>\n",
       "      <th>4</th>\n",
       "      <td>tm120801</td>\n",
       "      <td>The Dirty Dozen</td>\n",
       "      <td>MOVIE</td>\n",
       "      <td>12 American military prisoners in World War II...</td>\n",
       "      <td>1967</td>\n",
       "      <td>NaN</td>\n",
       "      <td>150</td>\n",
       "      <td>['war', 'action']</td>\n",
       "      <td>['GB', 'US']</td>\n",
       "      <td>NaN</td>\n",
       "      <td>tt0061578</td>\n",
       "      <td>7.7</td>\n",
       "      <td>72662.0</td>\n",
       "      <td>20.398</td>\n",
       "      <td>7.600</td>\n",
       "    </tr>\n",
       "  </tbody>\n",
       "</table>\n",
       "</div>"
      ],
      "text/plain": [
       "         id                                title   type  \\\n",
       "0  ts300399  Five Came Back: The Reference Films   SHOW   \n",
       "1   tm84618                          Taxi Driver  MOVIE   \n",
       "2  tm154986                          Deliverance  MOVIE   \n",
       "3  tm127384      Monty Python and the Holy Grail  MOVIE   \n",
       "4  tm120801                      The Dirty Dozen  MOVIE   \n",
       "\n",
       "                                         description  release_year  \\\n",
       "0  This collection includes 12 World War II-era p...          1945   \n",
       "1  A mentally unstable Vietnam War veteran works ...          1976   \n",
       "2  Intent on seeing the Cahulawassee River before...          1972   \n",
       "3  King Arthur, accompanied by his squire, recrui...          1975   \n",
       "4  12 American military prisoners in World War II...          1967   \n",
       "\n",
       "  age_certification  runtime                                       genres  \\\n",
       "0             TV-MA       51                            ['documentation']   \n",
       "1                 R      114                           ['drama', 'crime']   \n",
       "2                 R      109  ['drama', 'action', 'thriller', 'european']   \n",
       "3                PG       91              ['fantasy', 'action', 'comedy']   \n",
       "4               NaN      150                            ['war', 'action']   \n",
       "\n",
       "  production_countries  seasons    imdb_id  imdb_score  imdb_votes  \\\n",
       "0               ['US']      1.0        NaN         NaN         NaN   \n",
       "1               ['US']      NaN  tt0075314         8.2    808582.0   \n",
       "2               ['US']      NaN  tt0068473         7.7    107673.0   \n",
       "3               ['GB']      NaN  tt0071853         8.2    534486.0   \n",
       "4         ['GB', 'US']      NaN  tt0061578         7.7     72662.0   \n",
       "\n",
       "   tmdb_popularity  tmdb_score  \n",
       "0            0.600         NaN  \n",
       "1           40.965       8.179  \n",
       "2           10.010       7.300  \n",
       "3           15.461       7.811  \n",
       "4           20.398       7.600  "
      ]
     },
     "execution_count": 4,
     "metadata": {},
     "output_type": "execute_result"
    }
   ],
   "source": [
    "# Take a peek at the top 5 rows \n",
    "df.head(5)"
   ]
  },
  {
   "cell_type": "markdown",
   "id": "f0b5affb",
   "metadata": {
    "papermill": {
     "duration": 0.013263,
     "end_time": "2023-11-12T13:03:31.302349",
     "exception": false,
     "start_time": "2023-11-12T13:03:31.289086",
     "status": "completed"
    },
    "tags": []
   },
   "source": [
    "Notice the columns with `NaN` (Not a number). This tends to happen when the column is numeric (`np.int32`, `np.int64`, `np.float32`, `np.float64`, etc.), and when there is no value for that column (known as Null in most programming languages). Had we imported this column as a Pandas `object` instead of `NaN` we would have have the Python `None` type.\n",
    "\n",
    "In general, null values are stored differently depending on the data-type (`dtype`) of the column:\n",
    "\n",
    "* For`object` column, null are stored as `None`.\n",
    "* For numeric columns (like `np.int32`, `np.int64`, `np.float32`, `np.float64`, etc.), null are stored as `NaN`\n",
    "* For other columns... (we can find out via documantation / experimentations). \n",
    "\n",
    "Not that important for now, but worth knowing...\n",
    "\n",
    "Try this: on the right hand panel (Input section), expand \"netflix-tv-shows-and-titles\". Click on `titles.csv` to do a quick preview of what the raw data looks like. Notice the empty cells?"
   ]
  },
  {
   "cell_type": "code",
   "execution_count": 5,
   "id": "01649ed0",
   "metadata": {
    "execution": {
     "iopub.execute_input": "2023-11-12T13:03:31.332706Z",
     "iopub.status.busy": "2023-11-12T13:03:31.331365Z",
     "iopub.status.idle": "2023-11-12T13:03:31.341226Z",
     "shell.execute_reply": "2023-11-12T13:03:31.340196Z"
    },
    "papermill": {
     "duration": 0.028033,
     "end_time": "2023-11-12T13:03:31.343949",
     "exception": false,
     "start_time": "2023-11-12T13:03:31.315916",
     "status": "completed"
    },
    "tags": []
   },
   "outputs": [
    {
     "data": {
      "text/plain": [
       "id                       object\n",
       "title                    object\n",
       "type                     object\n",
       "description              object\n",
       "release_year              int64\n",
       "age_certification        object\n",
       "runtime                   int64\n",
       "genres                   object\n",
       "production_countries     object\n",
       "seasons                 float64\n",
       "imdb_id                  object\n",
       "imdb_score              float64\n",
       "imdb_votes              float64\n",
       "tmdb_popularity         float64\n",
       "tmdb_score              float64\n",
       "dtype: object"
      ]
     },
     "execution_count": 5,
     "metadata": {},
     "output_type": "execute_result"
    }
   ],
   "source": [
    "# What data-types have these columns been imported as?\n",
    "df.dtypes"
   ]
  },
  {
   "cell_type": "code",
   "execution_count": 6,
   "id": "b96d02ee",
   "metadata": {
    "execution": {
     "iopub.execute_input": "2023-11-12T13:03:31.375543Z",
     "iopub.status.busy": "2023-11-12T13:03:31.374529Z",
     "iopub.status.idle": "2023-11-12T13:03:31.412380Z",
     "shell.execute_reply": "2023-11-12T13:03:31.410897Z"
    },
    "papermill": {
     "duration": 0.056769,
     "end_time": "2023-11-12T13:03:31.415408",
     "exception": false,
     "start_time": "2023-11-12T13:03:31.358639",
     "status": "completed"
    },
    "tags": []
   },
   "outputs": [
    {
     "name": "stdout",
     "output_type": "stream",
     "text": [
      "<class 'pandas.core.frame.DataFrame'>\n",
      "RangeIndex: 5850 entries, 0 to 5849\n",
      "Data columns (total 15 columns):\n",
      " #   Column                Non-Null Count  Dtype  \n",
      "---  ------                --------------  -----  \n",
      " 0   id                    5850 non-null   object \n",
      " 1   title                 5849 non-null   object \n",
      " 2   type                  5850 non-null   object \n",
      " 3   description           5832 non-null   object \n",
      " 4   release_year          5850 non-null   int64  \n",
      " 5   age_certification     3231 non-null   object \n",
      " 6   runtime               5850 non-null   int64  \n",
      " 7   genres                5850 non-null   object \n",
      " 8   production_countries  5850 non-null   object \n",
      " 9   seasons               2106 non-null   float64\n",
      " 10  imdb_id               5447 non-null   object \n",
      " 11  imdb_score            5368 non-null   float64\n",
      " 12  imdb_votes            5352 non-null   float64\n",
      " 13  tmdb_popularity       5759 non-null   float64\n",
      " 14  tmdb_score            5539 non-null   float64\n",
      "dtypes: float64(5), int64(2), object(8)\n",
      "memory usage: 685.7+ KB\n"
     ]
    }
   ],
   "source": [
    "# Give me a bit more high level info for each column\n",
    "df.info()"
   ]
  },
  {
   "cell_type": "code",
   "execution_count": 7,
   "id": "69239804",
   "metadata": {
    "execution": {
     "iopub.execute_input": "2023-11-12T13:03:31.446542Z",
     "iopub.status.busy": "2023-11-12T13:03:31.445697Z",
     "iopub.status.idle": "2023-11-12T13:03:31.452840Z",
     "shell.execute_reply": "2023-11-12T13:03:31.451423Z"
    },
    "papermill": {
     "duration": 0.026184,
     "end_time": "2023-11-12T13:03:31.455488",
     "exception": false,
     "start_time": "2023-11-12T13:03:31.429304",
     "status": "completed"
    },
    "tags": []
   },
   "outputs": [
    {
     "data": {
      "text/plain": [
       "(5850, 15)"
      ]
     },
     "execution_count": 7,
     "metadata": {},
     "output_type": "execute_result"
    }
   ],
   "source": [
    "# What is the shape of the dataframe? (num_rows, num_columns)\n",
    "df.shape"
   ]
  },
  {
   "cell_type": "code",
   "execution_count": null,
   "id": "4025cc96",
   "metadata": {
    "papermill": {
     "duration": 0.015014,
     "end_time": "2023-11-12T13:03:31.484331",
     "exception": false,
     "start_time": "2023-11-12T13:03:31.469317",
     "status": "completed"
    },
    "tags": []
   },
   "outputs": [],
   "source": []
  },
  {
   "cell_type": "code",
   "execution_count": 8,
   "id": "ae9a608a",
   "metadata": {
    "execution": {
     "iopub.execute_input": "2023-11-12T13:03:31.518174Z",
     "iopub.status.busy": "2023-11-12T13:03:31.516730Z",
     "iopub.status.idle": "2023-11-12T13:03:31.569481Z",
     "shell.execute_reply": "2023-11-12T13:03:31.568020Z"
    },
    "papermill": {
     "duration": 0.073892,
     "end_time": "2023-11-12T13:03:31.572752",
     "exception": false,
     "start_time": "2023-11-12T13:03:31.498860",
     "status": "completed"
    },
    "tags": []
   },
   "outputs": [
    {
     "data": {
      "text/html": [
       "<div>\n",
       "<style scoped>\n",
       "    .dataframe tbody tr th:only-of-type {\n",
       "        vertical-align: middle;\n",
       "    }\n",
       "\n",
       "    .dataframe tbody tr th {\n",
       "        vertical-align: top;\n",
       "    }\n",
       "\n",
       "    .dataframe thead th {\n",
       "        text-align: right;\n",
       "    }\n",
       "</style>\n",
       "<table border=\"1\" class=\"dataframe\">\n",
       "  <thead>\n",
       "    <tr style=\"text-align: right;\">\n",
       "      <th></th>\n",
       "      <th>release_year</th>\n",
       "      <th>runtime</th>\n",
       "      <th>seasons</th>\n",
       "      <th>imdb_score</th>\n",
       "      <th>imdb_votes</th>\n",
       "      <th>tmdb_popularity</th>\n",
       "      <th>tmdb_score</th>\n",
       "    </tr>\n",
       "  </thead>\n",
       "  <tbody>\n",
       "    <tr>\n",
       "      <th>count</th>\n",
       "      <td>5850.000000</td>\n",
       "      <td>5850.000000</td>\n",
       "      <td>2106.000000</td>\n",
       "      <td>5368.000000</td>\n",
       "      <td>5.352000e+03</td>\n",
       "      <td>5759.000000</td>\n",
       "      <td>5539.000000</td>\n",
       "    </tr>\n",
       "    <tr>\n",
       "      <th>mean</th>\n",
       "      <td>2016.417094</td>\n",
       "      <td>76.888889</td>\n",
       "      <td>2.162868</td>\n",
       "      <td>6.510861</td>\n",
       "      <td>2.343938e+04</td>\n",
       "      <td>22.637925</td>\n",
       "      <td>6.829175</td>\n",
       "    </tr>\n",
       "    <tr>\n",
       "      <th>std</th>\n",
       "      <td>6.937726</td>\n",
       "      <td>39.002509</td>\n",
       "      <td>2.689041</td>\n",
       "      <td>1.163826</td>\n",
       "      <td>9.582047e+04</td>\n",
       "      <td>81.680263</td>\n",
       "      <td>1.170391</td>\n",
       "    </tr>\n",
       "    <tr>\n",
       "      <th>min</th>\n",
       "      <td>1945.000000</td>\n",
       "      <td>0.000000</td>\n",
       "      <td>1.000000</td>\n",
       "      <td>1.500000</td>\n",
       "      <td>5.000000e+00</td>\n",
       "      <td>0.009442</td>\n",
       "      <td>0.500000</td>\n",
       "    </tr>\n",
       "    <tr>\n",
       "      <th>25%</th>\n",
       "      <td>2016.000000</td>\n",
       "      <td>44.000000</td>\n",
       "      <td>1.000000</td>\n",
       "      <td>5.800000</td>\n",
       "      <td>5.167500e+02</td>\n",
       "      <td>2.728500</td>\n",
       "      <td>6.100000</td>\n",
       "    </tr>\n",
       "    <tr>\n",
       "      <th>50%</th>\n",
       "      <td>2018.000000</td>\n",
       "      <td>83.000000</td>\n",
       "      <td>1.000000</td>\n",
       "      <td>6.600000</td>\n",
       "      <td>2.233500e+03</td>\n",
       "      <td>6.821000</td>\n",
       "      <td>6.900000</td>\n",
       "    </tr>\n",
       "    <tr>\n",
       "      <th>75%</th>\n",
       "      <td>2020.000000</td>\n",
       "      <td>104.000000</td>\n",
       "      <td>2.000000</td>\n",
       "      <td>7.300000</td>\n",
       "      <td>9.494000e+03</td>\n",
       "      <td>16.590000</td>\n",
       "      <td>7.537500</td>\n",
       "    </tr>\n",
       "    <tr>\n",
       "      <th>max</th>\n",
       "      <td>2022.000000</td>\n",
       "      <td>240.000000</td>\n",
       "      <td>42.000000</td>\n",
       "      <td>9.600000</td>\n",
       "      <td>2.294231e+06</td>\n",
       "      <td>2274.044000</td>\n",
       "      <td>10.000000</td>\n",
       "    </tr>\n",
       "  </tbody>\n",
       "</table>\n",
       "</div>"
      ],
      "text/plain": [
       "       release_year      runtime      seasons   imdb_score    imdb_votes  \\\n",
       "count   5850.000000  5850.000000  2106.000000  5368.000000  5.352000e+03   \n",
       "mean    2016.417094    76.888889     2.162868     6.510861  2.343938e+04   \n",
       "std        6.937726    39.002509     2.689041     1.163826  9.582047e+04   \n",
       "min     1945.000000     0.000000     1.000000     1.500000  5.000000e+00   \n",
       "25%     2016.000000    44.000000     1.000000     5.800000  5.167500e+02   \n",
       "50%     2018.000000    83.000000     1.000000     6.600000  2.233500e+03   \n",
       "75%     2020.000000   104.000000     2.000000     7.300000  9.494000e+03   \n",
       "max     2022.000000   240.000000    42.000000     9.600000  2.294231e+06   \n",
       "\n",
       "       tmdb_popularity   tmdb_score  \n",
       "count      5759.000000  5539.000000  \n",
       "mean         22.637925     6.829175  \n",
       "std          81.680263     1.170391  \n",
       "min           0.009442     0.500000  \n",
       "25%           2.728500     6.100000  \n",
       "50%           6.821000     6.900000  \n",
       "75%          16.590000     7.537500  \n",
       "max        2274.044000    10.000000  "
      ]
     },
     "execution_count": 8,
     "metadata": {},
     "output_type": "execute_result"
    }
   ],
   "source": [
    "# print basic statistics\n",
    "df.describe()"
   ]
  },
  {
   "cell_type": "markdown",
   "id": "f2bcbfb0",
   "metadata": {
    "papermill": {
     "duration": 0.015735,
     "end_time": "2023-11-12T13:03:31.605804",
     "exception": false,
     "start_time": "2023-11-12T13:03:31.590069",
     "status": "completed"
    },
    "tags": []
   },
   "source": [
    "# SQL Query Order of Execution\n",
    "\n",
    "First of all, recall the SQL Query Order of Execution. Pandas syntax follows (**more or less** this order (with big caveat)). When we want to translate a SQL query into Pandas syntax, keep this in your head.\n",
    "\n",
    "```\n",
    "FROM\n",
    "ON\n",
    "JOIN\n",
    "WHERE\n",
    "GROUP BY\n",
    "WITH CUBE or WITH ROLLUP\n",
    "HAVING\n",
    "SELECT\n",
    "DISTINCT\n",
    "ORDER BY\n",
    "TOP or LIMIT\n",
    "```\n",
    "\n",
    "https://stackoverflow.com/questions/4596467/order-of-execution-of-the-sql-query"
   ]
  },
  {
   "cell_type": "markdown",
   "id": "6ac69514",
   "metadata": {
    "papermill": {
     "duration": 0.014735,
     "end_time": "2023-11-12T13:03:31.636342",
     "exception": false,
     "start_time": "2023-11-12T13:03:31.621607",
     "status": "completed"
    },
    "tags": []
   },
   "source": [
    "# SQL 1\n",
    "\n",
    "In English:\n",
    "\n",
    "* Show me the `type`, `release_year`, `runtime`, `title`\n",
    "* from the table `df` ...\n",
    "* where `type` is 'SHOW' AND release_year is greater than 2000\n",
    "* sort by descending `year`, descending `runtime`, and ascending `title`\n",
    "\n",
    "SQL Syntax:\n",
    "\n",
    "```\n",
    "SELECT type, release_year, runtime, title\n",
    "FROM df\n",
    "WHERE type = 'SHOW' AND release_year > 2000\n",
    "ORDER BY release_year DESC, run_time DESC, title\n",
    ";\n",
    "```\n",
    "\n",
    "SQL Order of execution\n",
    "\n",
    "```\n",
    "FROM df\n",
    "WHERE type = 'SHOW' AND release_year > 2000\n",
    "SELECT type, release_year, runtime, title\n",
    "ORDER BY release_year DESC, run_time DESC, title\n",
    "```\n",
    "\n",
    "Let's try write the Pandas equivalent query (in SQL Order of execution)"
   ]
  },
  {
   "cell_type": "markdown",
   "id": "f44e5a25",
   "metadata": {
    "papermill": {
     "duration": 0.01456,
     "end_time": "2023-11-12T13:03:31.666822",
     "exception": false,
     "start_time": "2023-11-12T13:03:31.652262",
     "status": "completed"
    },
    "tags": []
   },
   "source": [
    "### SQL 1 - Pandas Syntax - version 1\n",
    "\n",
    "FROM `df`\n",
    "\n",
    "... then `.loc[rows, columns]` to get the row slices that satisfy the `rows`, for the list of `columns`.\n",
    "\n",
    "... then `.sort_values(by=[...], ascending=[...]).reset_index(drop=True)` to do that ORDER BY.\n"
   ]
  },
  {
   "cell_type": "code",
   "execution_count": 9,
   "id": "fd44028d",
   "metadata": {
    "execution": {
     "iopub.execute_input": "2023-11-12T13:03:31.700842Z",
     "iopub.status.busy": "2023-11-12T13:03:31.700273Z",
     "iopub.status.idle": "2023-11-12T13:03:31.741331Z",
     "shell.execute_reply": "2023-11-12T13:03:31.739394Z"
    },
    "papermill": {
     "duration": 0.062242,
     "end_time": "2023-11-12T13:03:31.744987",
     "exception": false,
     "start_time": "2023-11-12T13:03:31.682745",
     "status": "completed"
    },
    "tags": []
   },
   "outputs": [
    {
     "data": {
      "text/html": [
       "<div>\n",
       "<style scoped>\n",
       "    .dataframe tbody tr th:only-of-type {\n",
       "        vertical-align: middle;\n",
       "    }\n",
       "\n",
       "    .dataframe tbody tr th {\n",
       "        vertical-align: top;\n",
       "    }\n",
       "\n",
       "    .dataframe thead th {\n",
       "        text-align: right;\n",
       "    }\n",
       "</style>\n",
       "<table border=\"1\" class=\"dataframe\">\n",
       "  <thead>\n",
       "    <tr style=\"text-align: right;\">\n",
       "      <th></th>\n",
       "      <th>type</th>\n",
       "      <th>release_year</th>\n",
       "      <th>runtime</th>\n",
       "      <th>title</th>\n",
       "    </tr>\n",
       "  </thead>\n",
       "  <tbody>\n",
       "    <tr>\n",
       "      <th>0</th>\n",
       "      <td>SHOW</td>\n",
       "      <td>2022</td>\n",
       "      <td>93</td>\n",
       "      <td>jeen-yuhs</td>\n",
       "    </tr>\n",
       "    <tr>\n",
       "      <th>1</th>\n",
       "      <td>SHOW</td>\n",
       "      <td>2022</td>\n",
       "      <td>92</td>\n",
       "      <td>Jump Like a Witch</td>\n",
       "    </tr>\n",
       "    <tr>\n",
       "      <th>2</th>\n",
       "      <td>SHOW</td>\n",
       "      <td>2022</td>\n",
       "      <td>85</td>\n",
       "      <td>Jimmy Savile: A British Horror Story</td>\n",
       "    </tr>\n",
       "    <tr>\n",
       "      <th>3</th>\n",
       "      <td>SHOW</td>\n",
       "      <td>2022</td>\n",
       "      <td>80</td>\n",
       "      <td>Alchemy of Souls</td>\n",
       "    </tr>\n",
       "    <tr>\n",
       "      <th>4</th>\n",
       "      <td>SHOW</td>\n",
       "      <td>2022</td>\n",
       "      <td>76</td>\n",
       "      <td>Twenty Five Twenty One</td>\n",
       "    </tr>\n",
       "    <tr>\n",
       "      <th>...</th>\n",
       "      <td>...</td>\n",
       "      <td>...</td>\n",
       "      <td>...</td>\n",
       "      <td>...</td>\n",
       "    </tr>\n",
       "    <tr>\n",
       "      <th>2061</th>\n",
       "      <td>SHOW</td>\n",
       "      <td>2001</td>\n",
       "      <td>48</td>\n",
       "      <td>El Escamoso</td>\n",
       "    </tr>\n",
       "    <tr>\n",
       "      <th>2062</th>\n",
       "      <td>SHOW</td>\n",
       "      <td>2001</td>\n",
       "      <td>47</td>\n",
       "      <td>The Mole</td>\n",
       "    </tr>\n",
       "    <tr>\n",
       "      <th>2063</th>\n",
       "      <td>SHOW</td>\n",
       "      <td>2001</td>\n",
       "      <td>25</td>\n",
       "      <td>Trailer Park Boys</td>\n",
       "    </tr>\n",
       "    <tr>\n",
       "      <th>2064</th>\n",
       "      <td>SHOW</td>\n",
       "      <td>2001</td>\n",
       "      <td>23</td>\n",
       "      <td>The Fairly OddParents</td>\n",
       "    </tr>\n",
       "    <tr>\n",
       "      <th>2065</th>\n",
       "      <td>SHOW</td>\n",
       "      <td>2001</td>\n",
       "      <td>20</td>\n",
       "      <td>One on One</td>\n",
       "    </tr>\n",
       "  </tbody>\n",
       "</table>\n",
       "<p>2066 rows × 4 columns</p>\n",
       "</div>"
      ],
      "text/plain": [
       "      type  release_year  runtime                                 title\n",
       "0     SHOW          2022       93                             jeen-yuhs\n",
       "1     SHOW          2022       92                     Jump Like a Witch\n",
       "2     SHOW          2022       85  Jimmy Savile: A British Horror Story\n",
       "3     SHOW          2022       80                      Alchemy of Souls\n",
       "4     SHOW          2022       76                Twenty Five Twenty One\n",
       "...    ...           ...      ...                                   ...\n",
       "2061  SHOW          2001       48                           El Escamoso\n",
       "2062  SHOW          2001       47                              The Mole\n",
       "2063  SHOW          2001       25                     Trailer Park Boys\n",
       "2064  SHOW          2001       23                 The Fairly OddParents\n",
       "2065  SHOW          2001       20                            One on One\n",
       "\n",
       "[2066 rows x 4 columns]"
      ]
     },
     "execution_count": 9,
     "metadata": {},
     "output_type": "execute_result"
    }
   ],
   "source": [
    "df\\\n",
    ".loc[((df[\"type\"] == \"SHOW\") & (df[\"release_year\"] > 2000)), :]\\\n",
    ".loc[:, [\"type\", \"release_year\", \"runtime\", \"title\"]]\\\n",
    ".sort_values(by=[\"release_year\", \"runtime\", \"title\"], ascending=[False, False, True])\\\n",
    ".reset_index(drop=True)\n",
    "\n",
    "# .reset_index(drop=True)"
   ]
  },
  {
   "cell_type": "markdown",
   "id": "328a2141",
   "metadata": {
    "papermill": {
     "duration": 0.0161,
     "end_time": "2023-11-12T13:03:31.776203",
     "exception": false,
     "start_time": "2023-11-12T13:03:31.760103",
     "status": "completed"
    },
    "tags": []
   },
   "source": [
    "Technically, we can make the Pandas query shorter!"
   ]
  },
  {
   "cell_type": "markdown",
   "id": "3c159071",
   "metadata": {
    "execution": {
     "iopub.execute_input": "2022-08-11T08:48:59.26312Z",
     "iopub.status.busy": "2022-08-11T08:48:59.2623Z",
     "iopub.status.idle": "2022-08-11T08:48:59.277874Z",
     "shell.execute_reply": "2022-08-11T08:48:59.276138Z",
     "shell.execute_reply.started": "2022-08-11T08:48:59.263061Z"
    },
    "papermill": {
     "duration": 0.013898,
     "end_time": "2023-11-12T13:03:31.806531",
     "exception": false,
     "start_time": "2023-11-12T13:03:31.792633",
     "status": "completed"
    },
    "tags": []
   },
   "source": [
    "### SQL 1 - Pandas Syntax - version 2\n",
    "\n",
    "SQL Syntax:\n",
    "\n",
    "```\n",
    "SELECT *\n",
    "\n",
    "FROM (\n",
    "    SELECT type, release_year, runtime, title\n",
    "    FROM df\n",
    "    WHERE type = 'SHOW' AND release_year > 2000\n",
    ") AS a\n",
    "\n",
    "ORDER BY a.release_year DESC, a.run_time DESC, a.title\n",
    ";\n",
    "```\n",
    "\n",
    "SQL Order of execution\n",
    "\n",
    "```\n",
    "FROM (\n",
    "    SELECT type, release_year, runtime, title\n",
    "    FROM df\n",
    "    WHERE type = 'SHOW' AND release_year > 2000\n",
    ") AS a\n",
    "\n",
    "SELECT *\n",
    "\n",
    "ORDER BY a.release_year DESC, a.run_time DESC, a.title\n",
    "```"
   ]
  },
  {
   "cell_type": "code",
   "execution_count": 10,
   "id": "00c350dd",
   "metadata": {
    "execution": {
     "iopub.execute_input": "2023-11-12T13:03:31.838742Z",
     "iopub.status.busy": "2023-11-12T13:03:31.837985Z",
     "iopub.status.idle": "2023-11-12T13:03:31.875997Z",
     "shell.execute_reply": "2023-11-12T13:03:31.873746Z"
    },
    "papermill": {
     "duration": 0.057267,
     "end_time": "2023-11-12T13:03:31.879191",
     "exception": false,
     "start_time": "2023-11-12T13:03:31.821924",
     "status": "completed"
    },
    "tags": []
   },
   "outputs": [
    {
     "data": {
      "text/html": [
       "<div>\n",
       "<style scoped>\n",
       "    .dataframe tbody tr th:only-of-type {\n",
       "        vertical-align: middle;\n",
       "    }\n",
       "\n",
       "    .dataframe tbody tr th {\n",
       "        vertical-align: top;\n",
       "    }\n",
       "\n",
       "    .dataframe thead th {\n",
       "        text-align: right;\n",
       "    }\n",
       "</style>\n",
       "<table border=\"1\" class=\"dataframe\">\n",
       "  <thead>\n",
       "    <tr style=\"text-align: right;\">\n",
       "      <th></th>\n",
       "      <th>type</th>\n",
       "      <th>release_year</th>\n",
       "      <th>runtime</th>\n",
       "      <th>title</th>\n",
       "    </tr>\n",
       "  </thead>\n",
       "  <tbody>\n",
       "    <tr>\n",
       "      <th>0</th>\n",
       "      <td>SHOW</td>\n",
       "      <td>2022</td>\n",
       "      <td>93</td>\n",
       "      <td>jeen-yuhs</td>\n",
       "    </tr>\n",
       "    <tr>\n",
       "      <th>1</th>\n",
       "      <td>SHOW</td>\n",
       "      <td>2022</td>\n",
       "      <td>92</td>\n",
       "      <td>Jump Like a Witch</td>\n",
       "    </tr>\n",
       "    <tr>\n",
       "      <th>2</th>\n",
       "      <td>SHOW</td>\n",
       "      <td>2022</td>\n",
       "      <td>85</td>\n",
       "      <td>Jimmy Savile: A British Horror Story</td>\n",
       "    </tr>\n",
       "    <tr>\n",
       "      <th>3</th>\n",
       "      <td>SHOW</td>\n",
       "      <td>2022</td>\n",
       "      <td>80</td>\n",
       "      <td>Alchemy of Souls</td>\n",
       "    </tr>\n",
       "    <tr>\n",
       "      <th>4</th>\n",
       "      <td>SHOW</td>\n",
       "      <td>2022</td>\n",
       "      <td>76</td>\n",
       "      <td>Twenty Five Twenty One</td>\n",
       "    </tr>\n",
       "    <tr>\n",
       "      <th>...</th>\n",
       "      <td>...</td>\n",
       "      <td>...</td>\n",
       "      <td>...</td>\n",
       "      <td>...</td>\n",
       "    </tr>\n",
       "    <tr>\n",
       "      <th>2061</th>\n",
       "      <td>SHOW</td>\n",
       "      <td>2001</td>\n",
       "      <td>48</td>\n",
       "      <td>El Escamoso</td>\n",
       "    </tr>\n",
       "    <tr>\n",
       "      <th>2062</th>\n",
       "      <td>SHOW</td>\n",
       "      <td>2001</td>\n",
       "      <td>47</td>\n",
       "      <td>The Mole</td>\n",
       "    </tr>\n",
       "    <tr>\n",
       "      <th>2063</th>\n",
       "      <td>SHOW</td>\n",
       "      <td>2001</td>\n",
       "      <td>25</td>\n",
       "      <td>Trailer Park Boys</td>\n",
       "    </tr>\n",
       "    <tr>\n",
       "      <th>2064</th>\n",
       "      <td>SHOW</td>\n",
       "      <td>2001</td>\n",
       "      <td>23</td>\n",
       "      <td>The Fairly OddParents</td>\n",
       "    </tr>\n",
       "    <tr>\n",
       "      <th>2065</th>\n",
       "      <td>SHOW</td>\n",
       "      <td>2001</td>\n",
       "      <td>20</td>\n",
       "      <td>One on One</td>\n",
       "    </tr>\n",
       "  </tbody>\n",
       "</table>\n",
       "<p>2066 rows × 4 columns</p>\n",
       "</div>"
      ],
      "text/plain": [
       "      type  release_year  runtime                                 title\n",
       "0     SHOW          2022       93                             jeen-yuhs\n",
       "1     SHOW          2022       92                     Jump Like a Witch\n",
       "2     SHOW          2022       85  Jimmy Savile: A British Horror Story\n",
       "3     SHOW          2022       80                      Alchemy of Souls\n",
       "4     SHOW          2022       76                Twenty Five Twenty One\n",
       "...    ...           ...      ...                                   ...\n",
       "2061  SHOW          2001       48                           El Escamoso\n",
       "2062  SHOW          2001       47                              The Mole\n",
       "2063  SHOW          2001       25                     Trailer Park Boys\n",
       "2064  SHOW          2001       23                 The Fairly OddParents\n",
       "2065  SHOW          2001       20                            One on One\n",
       "\n",
       "[2066 rows x 4 columns]"
      ]
     },
     "execution_count": 10,
     "metadata": {},
     "output_type": "execute_result"
    }
   ],
   "source": [
    "# Before:\n",
    "# df\\\n",
    "# .loc[((df[\"type\"] == \"SHOW\") & (df[\"release_year\"] > 2000)), :]\\\n",
    "# .loc[:, [\"type\", \"release_year\", \"runtime\", \"title\"]]\\\n",
    "# .sort_values(by=[\"release_year\", \"runtime\", \"title\"], ascending=[False, False, False])\n",
    "\n",
    "# After:\n",
    "df\\\n",
    ".loc[((df[\"type\"] == \"SHOW\") & (df[\"release_year\"] > 2000)), [\"type\", \"release_year\", \"runtime\", \"title\"]]\\\n",
    ".sort_values(by=[\"release_year\", \"runtime\", \"title\"], ascending=[False, False, True]).reset_index(drop=True)"
   ]
  },
  {
   "cell_type": "markdown",
   "id": "d42304fb",
   "metadata": {
    "papermill": {
     "duration": 0.014793,
     "end_time": "2023-11-12T13:03:31.909348",
     "exception": false,
     "start_time": "2023-11-12T13:03:31.894555",
     "status": "completed"
    },
    "tags": []
   },
   "source": [
    "### SQL 1 - Pandas Syntax - version 3 (Modular)"
   ]
  },
  {
   "cell_type": "code",
   "execution_count": 11,
   "id": "afd59f22",
   "metadata": {
    "execution": {
     "iopub.execute_input": "2023-11-12T13:03:31.944241Z",
     "iopub.status.busy": "2023-11-12T13:03:31.941708Z",
     "iopub.status.idle": "2023-11-12T13:03:31.979577Z",
     "shell.execute_reply": "2023-11-12T13:03:31.977600Z"
    },
    "papermill": {
     "duration": 0.05876,
     "end_time": "2023-11-12T13:03:31.982883",
     "exception": false,
     "start_time": "2023-11-12T13:03:31.924123",
     "status": "completed"
    },
    "tags": []
   },
   "outputs": [
    {
     "data": {
      "text/html": [
       "<div>\n",
       "<style scoped>\n",
       "    .dataframe tbody tr th:only-of-type {\n",
       "        vertical-align: middle;\n",
       "    }\n",
       "\n",
       "    .dataframe tbody tr th {\n",
       "        vertical-align: top;\n",
       "    }\n",
       "\n",
       "    .dataframe thead th {\n",
       "        text-align: right;\n",
       "    }\n",
       "</style>\n",
       "<table border=\"1\" class=\"dataframe\">\n",
       "  <thead>\n",
       "    <tr style=\"text-align: right;\">\n",
       "      <th></th>\n",
       "      <th>type</th>\n",
       "      <th>release_year</th>\n",
       "      <th>runtime</th>\n",
       "      <th>title</th>\n",
       "    </tr>\n",
       "  </thead>\n",
       "  <tbody>\n",
       "    <tr>\n",
       "      <th>0</th>\n",
       "      <td>SHOW</td>\n",
       "      <td>2022</td>\n",
       "      <td>93</td>\n",
       "      <td>jeen-yuhs</td>\n",
       "    </tr>\n",
       "    <tr>\n",
       "      <th>1</th>\n",
       "      <td>SHOW</td>\n",
       "      <td>2022</td>\n",
       "      <td>92</td>\n",
       "      <td>Jump Like a Witch</td>\n",
       "    </tr>\n",
       "    <tr>\n",
       "      <th>2</th>\n",
       "      <td>SHOW</td>\n",
       "      <td>2022</td>\n",
       "      <td>85</td>\n",
       "      <td>Jimmy Savile: A British Horror Story</td>\n",
       "    </tr>\n",
       "    <tr>\n",
       "      <th>3</th>\n",
       "      <td>SHOW</td>\n",
       "      <td>2022</td>\n",
       "      <td>80</td>\n",
       "      <td>Alchemy of Souls</td>\n",
       "    </tr>\n",
       "    <tr>\n",
       "      <th>4</th>\n",
       "      <td>SHOW</td>\n",
       "      <td>2022</td>\n",
       "      <td>76</td>\n",
       "      <td>Twenty Five Twenty One</td>\n",
       "    </tr>\n",
       "    <tr>\n",
       "      <th>...</th>\n",
       "      <td>...</td>\n",
       "      <td>...</td>\n",
       "      <td>...</td>\n",
       "      <td>...</td>\n",
       "    </tr>\n",
       "    <tr>\n",
       "      <th>2061</th>\n",
       "      <td>SHOW</td>\n",
       "      <td>2001</td>\n",
       "      <td>48</td>\n",
       "      <td>El Escamoso</td>\n",
       "    </tr>\n",
       "    <tr>\n",
       "      <th>2062</th>\n",
       "      <td>SHOW</td>\n",
       "      <td>2001</td>\n",
       "      <td>47</td>\n",
       "      <td>The Mole</td>\n",
       "    </tr>\n",
       "    <tr>\n",
       "      <th>2063</th>\n",
       "      <td>SHOW</td>\n",
       "      <td>2001</td>\n",
       "      <td>25</td>\n",
       "      <td>Trailer Park Boys</td>\n",
       "    </tr>\n",
       "    <tr>\n",
       "      <th>2064</th>\n",
       "      <td>SHOW</td>\n",
       "      <td>2001</td>\n",
       "      <td>23</td>\n",
       "      <td>The Fairly OddParents</td>\n",
       "    </tr>\n",
       "    <tr>\n",
       "      <th>2065</th>\n",
       "      <td>SHOW</td>\n",
       "      <td>2001</td>\n",
       "      <td>20</td>\n",
       "      <td>One on One</td>\n",
       "    </tr>\n",
       "  </tbody>\n",
       "</table>\n",
       "<p>2066 rows × 4 columns</p>\n",
       "</div>"
      ],
      "text/plain": [
       "      type  release_year  runtime                                 title\n",
       "0     SHOW          2022       93                             jeen-yuhs\n",
       "1     SHOW          2022       92                     Jump Like a Witch\n",
       "2     SHOW          2022       85  Jimmy Savile: A British Horror Story\n",
       "3     SHOW          2022       80                      Alchemy of Souls\n",
       "4     SHOW          2022       76                Twenty Five Twenty One\n",
       "...    ...           ...      ...                                   ...\n",
       "2061  SHOW          2001       48                           El Escamoso\n",
       "2062  SHOW          2001       47                              The Mole\n",
       "2063  SHOW          2001       25                     Trailer Park Boys\n",
       "2064  SHOW          2001       23                 The Fairly OddParents\n",
       "2065  SHOW          2001       20                            One on One\n",
       "\n",
       "[2066 rows x 4 columns]"
      ]
     },
     "execution_count": 11,
     "metadata": {},
     "output_type": "execute_result"
    }
   ],
   "source": [
    "# Before:\n",
    "# df\\\n",
    "# .loc[((df[\"type\"] == \"SHOW\") & (df[\"release_year\"] > 2000)), [\"type\", \"release_year\", \"runtime\", \"title\"]]\\\n",
    "# .sort_values(by=[\"release_year\", \"runtime\", \"title\"], ascending=[False, False, False])\n",
    "\n",
    "# After:\n",
    "my_where = ((df[\"type\"] == \"SHOW\") & (df[\"release_year\"] > 2000))\n",
    "\n",
    "my_select = [\"type\", \"release_year\", \"runtime\", \"title\"]\n",
    "\n",
    "my_sort = {\n",
    "    \"by\": [\"release_year\", \"runtime\", \"title\"],\n",
    "    \"ascending\": [False, False, True]\n",
    "}\n",
    "\n",
    "df\\\n",
    ".loc[my_where, my_select]\\\n",
    ".sort_values(**my_sort).reset_index(drop=True)"
   ]
  },
  {
   "cell_type": "code",
   "execution_count": 12,
   "id": "2b4433b0",
   "metadata": {
    "execution": {
     "iopub.execute_input": "2023-11-12T13:03:32.019324Z",
     "iopub.status.busy": "2023-11-12T13:03:32.018791Z",
     "iopub.status.idle": "2023-11-12T13:03:32.029319Z",
     "shell.execute_reply": "2023-11-12T13:03:32.027781Z"
    },
    "papermill": {
     "duration": 0.034393,
     "end_time": "2023-11-12T13:03:32.033546",
     "exception": false,
     "start_time": "2023-11-12T13:03:31.999153",
     "status": "completed"
    },
    "tags": []
   },
   "outputs": [
    {
     "data": {
      "text/plain": [
       "{'by': ['release_year', 'runtime', 'title'], 'ascending': [False, False, True]}"
      ]
     },
     "execution_count": 12,
     "metadata": {},
     "output_type": "execute_result"
    }
   ],
   "source": [
    "# quick illustration of what dictionary unpacking look like\n",
    "{**my_sort}"
   ]
  },
  {
   "cell_type": "code",
   "execution_count": 13,
   "id": "f074bce9",
   "metadata": {
    "execution": {
     "iopub.execute_input": "2023-11-12T13:03:32.068069Z",
     "iopub.status.busy": "2023-11-12T13:03:32.067551Z",
     "iopub.status.idle": "2023-11-12T13:03:32.099060Z",
     "shell.execute_reply": "2023-11-12T13:03:32.097451Z"
    },
    "papermill": {
     "duration": 0.053623,
     "end_time": "2023-11-12T13:03:32.102740",
     "exception": false,
     "start_time": "2023-11-12T13:03:32.049117",
     "status": "completed"
    },
    "tags": []
   },
   "outputs": [
    {
     "data": {
      "text/html": [
       "<div>\n",
       "<style scoped>\n",
       "    .dataframe tbody tr th:only-of-type {\n",
       "        vertical-align: middle;\n",
       "    }\n",
       "\n",
       "    .dataframe tbody tr th {\n",
       "        vertical-align: top;\n",
       "    }\n",
       "\n",
       "    .dataframe thead th {\n",
       "        text-align: right;\n",
       "    }\n",
       "</style>\n",
       "<table border=\"1\" class=\"dataframe\">\n",
       "  <thead>\n",
       "    <tr style=\"text-align: right;\">\n",
       "      <th></th>\n",
       "      <th>type</th>\n",
       "      <th>release_year</th>\n",
       "      <th>runtime</th>\n",
       "      <th>title</th>\n",
       "    </tr>\n",
       "  </thead>\n",
       "  <tbody>\n",
       "    <tr>\n",
       "      <th>0</th>\n",
       "      <td>SHOW</td>\n",
       "      <td>2022</td>\n",
       "      <td>93</td>\n",
       "      <td>jeen-yuhs</td>\n",
       "    </tr>\n",
       "    <tr>\n",
       "      <th>1</th>\n",
       "      <td>SHOW</td>\n",
       "      <td>2022</td>\n",
       "      <td>92</td>\n",
       "      <td>Jump Like a Witch</td>\n",
       "    </tr>\n",
       "    <tr>\n",
       "      <th>2</th>\n",
       "      <td>SHOW</td>\n",
       "      <td>2022</td>\n",
       "      <td>85</td>\n",
       "      <td>Jimmy Savile: A British Horror Story</td>\n",
       "    </tr>\n",
       "    <tr>\n",
       "      <th>3</th>\n",
       "      <td>SHOW</td>\n",
       "      <td>2022</td>\n",
       "      <td>80</td>\n",
       "      <td>Alchemy of Souls</td>\n",
       "    </tr>\n",
       "    <tr>\n",
       "      <th>4</th>\n",
       "      <td>SHOW</td>\n",
       "      <td>2022</td>\n",
       "      <td>76</td>\n",
       "      <td>Twenty Five Twenty One</td>\n",
       "    </tr>\n",
       "    <tr>\n",
       "      <th>...</th>\n",
       "      <td>...</td>\n",
       "      <td>...</td>\n",
       "      <td>...</td>\n",
       "      <td>...</td>\n",
       "    </tr>\n",
       "    <tr>\n",
       "      <th>2061</th>\n",
       "      <td>SHOW</td>\n",
       "      <td>2001</td>\n",
       "      <td>48</td>\n",
       "      <td>El Escamoso</td>\n",
       "    </tr>\n",
       "    <tr>\n",
       "      <th>2062</th>\n",
       "      <td>SHOW</td>\n",
       "      <td>2001</td>\n",
       "      <td>47</td>\n",
       "      <td>The Mole</td>\n",
       "    </tr>\n",
       "    <tr>\n",
       "      <th>2063</th>\n",
       "      <td>SHOW</td>\n",
       "      <td>2001</td>\n",
       "      <td>25</td>\n",
       "      <td>Trailer Park Boys</td>\n",
       "    </tr>\n",
       "    <tr>\n",
       "      <th>2064</th>\n",
       "      <td>SHOW</td>\n",
       "      <td>2001</td>\n",
       "      <td>23</td>\n",
       "      <td>The Fairly OddParents</td>\n",
       "    </tr>\n",
       "    <tr>\n",
       "      <th>2065</th>\n",
       "      <td>SHOW</td>\n",
       "      <td>2001</td>\n",
       "      <td>20</td>\n",
       "      <td>One on One</td>\n",
       "    </tr>\n",
       "  </tbody>\n",
       "</table>\n",
       "<p>2066 rows × 4 columns</p>\n",
       "</div>"
      ],
      "text/plain": [
       "      type  release_year  runtime                                 title\n",
       "0     SHOW          2022       93                             jeen-yuhs\n",
       "1     SHOW          2022       92                     Jump Like a Witch\n",
       "2     SHOW          2022       85  Jimmy Savile: A British Horror Story\n",
       "3     SHOW          2022       80                      Alchemy of Souls\n",
       "4     SHOW          2022       76                Twenty Five Twenty One\n",
       "...    ...           ...      ...                                   ...\n",
       "2061  SHOW          2001       48                           El Escamoso\n",
       "2062  SHOW          2001       47                              The Mole\n",
       "2063  SHOW          2001       25                     Trailer Park Boys\n",
       "2064  SHOW          2001       23                 The Fairly OddParents\n",
       "2065  SHOW          2001       20                            One on One\n",
       "\n",
       "[2066 rows x 4 columns]"
      ]
     },
     "execution_count": 13,
     "metadata": {},
     "output_type": "execute_result"
    }
   ],
   "source": [
    "# quick illustration of our pandas query in one liner\n",
    "df.loc[my_where, my_select].sort_values(**my_sort).reset_index(drop=True)"
   ]
  },
  {
   "cell_type": "code",
   "execution_count": 14,
   "id": "51952000",
   "metadata": {
    "execution": {
     "iopub.execute_input": "2023-11-12T13:03:32.137115Z",
     "iopub.status.busy": "2023-11-12T13:03:32.136130Z",
     "iopub.status.idle": "2023-11-12T13:03:32.146305Z",
     "shell.execute_reply": "2023-11-12T13:03:32.145315Z"
    },
    "papermill": {
     "duration": 0.030543,
     "end_time": "2023-11-12T13:03:32.148865",
     "exception": false,
     "start_time": "2023-11-12T13:03:32.118322",
     "status": "completed"
    },
    "tags": []
   },
   "outputs": [
    {
     "data": {
      "text/plain": [
       "0       False\n",
       "1       False\n",
       "2       False\n",
       "3       False\n",
       "4       False\n",
       "        ...  \n",
       "5845    False\n",
       "5846    False\n",
       "5847    False\n",
       "5848    False\n",
       "5849     True\n",
       "Length: 5850, dtype: bool"
      ]
     },
     "execution_count": 14,
     "metadata": {},
     "output_type": "execute_result"
    }
   ],
   "source": [
    "# What does my_where look like?\n",
    "# my_where = ((df[\"type\"] == \"SHOW\") & (df[\"release_year\"] > 2000))\n",
    "my_where"
   ]
  },
  {
   "cell_type": "code",
   "execution_count": 15,
   "id": "2a083edc",
   "metadata": {
    "execution": {
     "iopub.execute_input": "2023-11-12T13:03:32.183270Z",
     "iopub.status.busy": "2023-11-12T13:03:32.182725Z",
     "iopub.status.idle": "2023-11-12T13:03:32.198223Z",
     "shell.execute_reply": "2023-11-12T13:03:32.196811Z"
    },
    "papermill": {
     "duration": 0.036261,
     "end_time": "2023-11-12T13:03:32.201303",
     "exception": false,
     "start_time": "2023-11-12T13:03:32.165042",
     "status": "completed"
    },
    "tags": []
   },
   "outputs": [
    {
     "name": "stdout",
     "output_type": "stream",
     "text": [
      "total rows in df: 5850\n",
      "total rows in df that satisfy the my_where condition: 2066\n",
      "total rows in df that do not satisfy the my_where condition: 3784\n"
     ]
    }
   ],
   "source": [
    "# show all rows in df\n",
    "print(f\"total rows in df: {len(df)}\")\n",
    "\n",
    "# show all rows in df that satisfy the my_where condition\n",
    "print(f\"total rows in df that satisfy the my_where condition: {len(df[my_where])}\")\n",
    "\n",
    "# show all rows in df that do not satisfy the my_where condition\n",
    "print(f\"total rows in df that do not satisfy the my_where condition: {len(df[~my_where])}\")\n",
    "\n",
    "# the numbers always add up: total rows in df == total rows that satisfy conditions + total rows that do not satisfy conditions \n",
    "assert len(df) == len(df[my_where]) + len(df[~my_where])"
   ]
  },
  {
   "cell_type": "markdown",
   "id": "e62f2c97",
   "metadata": {
    "execution": {
     "iopub.execute_input": "2022-08-11T08:17:53.378676Z",
     "iopub.status.busy": "2022-08-11T08:17:53.377932Z",
     "iopub.status.idle": "2022-08-11T08:17:53.383515Z",
     "shell.execute_reply": "2022-08-11T08:17:53.382517Z",
     "shell.execute_reply.started": "2022-08-11T08:17:53.378635Z"
    },
    "papermill": {
     "duration": 0.015441,
     "end_time": "2023-11-12T13:03:32.232156",
     "exception": false,
     "start_time": "2023-11-12T13:03:32.216715",
     "status": "completed"
    },
    "tags": []
   },
   "source": [
    "# SQL 2 - Group By"
   ]
  },
  {
   "cell_type": "markdown",
   "id": "e86bd8c8",
   "metadata": {
    "execution": {
     "iopub.execute_input": "2022-08-11T08:25:34.83166Z",
     "iopub.status.busy": "2022-08-11T08:25:34.831281Z",
     "iopub.status.idle": "2022-08-11T08:25:34.840166Z",
     "shell.execute_reply": "2022-08-11T08:25:34.839019Z",
     "shell.execute_reply.started": "2022-08-11T08:25:34.831628Z"
    },
    "papermill": {
     "duration": 0.015766,
     "end_time": "2023-11-12T13:03:32.265144",
     "exception": false,
     "start_time": "2023-11-12T13:03:32.249378",
     "status": "completed"
    },
    "tags": []
   },
   "source": [
    "SQL Syntax:\n",
    "    \n",
    "```\n",
    "SELECT release_year, COUNT(*) AS title_count\n",
    "FROM df\n",
    "GROUP BY release_year\n",
    "HAVING count(*) < 10\n",
    "ORDER BY release_year DESC, run_time DESC, title\n",
    "```\n",
    "\n",
    "SQL Order of execution:\n",
    "\n",
    "```\n",
    "FROM df\n",
    "GROUP BY release_year\n",
    "HAVING count(*) < 10\n",
    "SELECT release_year, COUNT(*) AS title_count\n",
    "ORDER BY release_year DESC\n",
    ";\n",
    "```\n",
    "\n",
    "Pandas order of execution:\n",
    "\n",
    "```\n",
    "FROM df\n",
    "GROUP BY release_year\n",
    "    COUNT(*) AS title_count\n",
    "```\n",
    "\n",
    "```\n",
    "HAVING title_count < 10\n",
    "SELECT release_year, title_count\n",
    "ORDER BY release_year DESC\n",
    ";\n",
    "```"
   ]
  },
  {
   "cell_type": "code",
   "execution_count": 16,
   "id": "fccd2a57",
   "metadata": {
    "execution": {
     "iopub.execute_input": "2023-11-12T13:03:32.299224Z",
     "iopub.status.busy": "2023-11-12T13:03:32.298688Z",
     "iopub.status.idle": "2023-11-12T13:03:32.317079Z",
     "shell.execute_reply": "2023-11-12T13:03:32.315694Z"
    },
    "papermill": {
     "duration": 0.040025,
     "end_time": "2023-11-12T13:03:32.320735",
     "exception": false,
     "start_time": "2023-11-12T13:03:32.280710",
     "status": "completed"
    },
    "tags": []
   },
   "outputs": [
    {
     "data": {
      "text/html": [
       "<div>\n",
       "<style scoped>\n",
       "    .dataframe tbody tr th:only-of-type {\n",
       "        vertical-align: middle;\n",
       "    }\n",
       "\n",
       "    .dataframe tbody tr th {\n",
       "        vertical-align: top;\n",
       "    }\n",
       "\n",
       "    .dataframe thead th {\n",
       "        text-align: right;\n",
       "    }\n",
       "</style>\n",
       "<table border=\"1\" class=\"dataframe\">\n",
       "  <thead>\n",
       "    <tr style=\"text-align: right;\">\n",
       "      <th></th>\n",
       "      <th>release_year</th>\n",
       "      <th>title_count</th>\n",
       "    </tr>\n",
       "  </thead>\n",
       "  <tbody>\n",
       "    <tr>\n",
       "      <th>0</th>\n",
       "      <td>1945</td>\n",
       "      <td>1</td>\n",
       "    </tr>\n",
       "    <tr>\n",
       "      <th>1</th>\n",
       "      <td>1954</td>\n",
       "      <td>2</td>\n",
       "    </tr>\n",
       "    <tr>\n",
       "      <th>2</th>\n",
       "      <td>1956</td>\n",
       "      <td>1</td>\n",
       "    </tr>\n",
       "    <tr>\n",
       "      <th>3</th>\n",
       "      <td>1958</td>\n",
       "      <td>1</td>\n",
       "    </tr>\n",
       "    <tr>\n",
       "      <th>4</th>\n",
       "      <td>1959</td>\n",
       "      <td>1</td>\n",
       "    </tr>\n",
       "    <tr>\n",
       "      <th>...</th>\n",
       "      <td>...</td>\n",
       "      <td>...</td>\n",
       "    </tr>\n",
       "    <tr>\n",
       "      <th>58</th>\n",
       "      <td>2018</td>\n",
       "      <td>773</td>\n",
       "    </tr>\n",
       "    <tr>\n",
       "      <th>59</th>\n",
       "      <td>2019</td>\n",
       "      <td>836</td>\n",
       "    </tr>\n",
       "    <tr>\n",
       "      <th>60</th>\n",
       "      <td>2020</td>\n",
       "      <td>814</td>\n",
       "    </tr>\n",
       "    <tr>\n",
       "      <th>61</th>\n",
       "      <td>2021</td>\n",
       "      <td>787</td>\n",
       "    </tr>\n",
       "    <tr>\n",
       "      <th>62</th>\n",
       "      <td>2022</td>\n",
       "      <td>371</td>\n",
       "    </tr>\n",
       "  </tbody>\n",
       "</table>\n",
       "<p>63 rows × 2 columns</p>\n",
       "</div>"
      ],
      "text/plain": [
       "    release_year  title_count\n",
       "0           1945            1\n",
       "1           1954            2\n",
       "2           1956            1\n",
       "3           1958            1\n",
       "4           1959            1\n",
       "..           ...          ...\n",
       "58          2018          773\n",
       "59          2019          836\n",
       "60          2020          814\n",
       "61          2021          787\n",
       "62          2022          371\n",
       "\n",
       "[63 rows x 2 columns]"
      ]
     },
     "execution_count": 16,
     "metadata": {},
     "output_type": "execute_result"
    }
   ],
   "source": [
    "df\\\n",
    ".groupby(by=[\"release_year\"])\\\n",
    ".size().reset_index(name='title_count')"
   ]
  },
  {
   "cell_type": "code",
   "execution_count": 17,
   "id": "8004d8d9",
   "metadata": {
    "execution": {
     "iopub.execute_input": "2023-11-12T13:03:32.355845Z",
     "iopub.status.busy": "2023-11-12T13:03:32.355339Z",
     "iopub.status.idle": "2023-11-12T13:03:32.367448Z",
     "shell.execute_reply": "2023-11-12T13:03:32.365765Z"
    },
    "papermill": {
     "duration": 0.033682,
     "end_time": "2023-11-12T13:03:32.370775",
     "exception": false,
     "start_time": "2023-11-12T13:03:32.337093",
     "status": "completed"
    },
    "tags": []
   },
   "outputs": [],
   "source": [
    "df1 = df\\\n",
    ".groupby(by=[\"release_year\"])\\\n",
    ".size()\\\n",
    ".reset_index(name='title_count')"
   ]
  },
  {
   "cell_type": "code",
   "execution_count": 18,
   "id": "0a8ca2a5",
   "metadata": {
    "execution": {
     "iopub.execute_input": "2023-11-12T13:03:32.407321Z",
     "iopub.status.busy": "2023-11-12T13:03:32.406813Z",
     "iopub.status.idle": "2023-11-12T13:03:32.420137Z",
     "shell.execute_reply": "2023-11-12T13:03:32.418883Z"
    },
    "papermill": {
     "duration": 0.035418,
     "end_time": "2023-11-12T13:03:32.423303",
     "exception": false,
     "start_time": "2023-11-12T13:03:32.387885",
     "status": "completed"
    },
    "tags": []
   },
   "outputs": [
    {
     "data": {
      "text/html": [
       "<div>\n",
       "<style scoped>\n",
       "    .dataframe tbody tr th:only-of-type {\n",
       "        vertical-align: middle;\n",
       "    }\n",
       "\n",
       "    .dataframe tbody tr th {\n",
       "        vertical-align: top;\n",
       "    }\n",
       "\n",
       "    .dataframe thead th {\n",
       "        text-align: right;\n",
       "    }\n",
       "</style>\n",
       "<table border=\"1\" class=\"dataframe\">\n",
       "  <thead>\n",
       "    <tr style=\"text-align: right;\">\n",
       "      <th></th>\n",
       "      <th>release_year</th>\n",
       "      <th>title_count</th>\n",
       "    </tr>\n",
       "  </thead>\n",
       "  <tbody>\n",
       "    <tr>\n",
       "      <th>0</th>\n",
       "      <td>1945</td>\n",
       "      <td>1</td>\n",
       "    </tr>\n",
       "    <tr>\n",
       "      <th>1</th>\n",
       "      <td>1954</td>\n",
       "      <td>2</td>\n",
       "    </tr>\n",
       "    <tr>\n",
       "      <th>2</th>\n",
       "      <td>1956</td>\n",
       "      <td>1</td>\n",
       "    </tr>\n",
       "    <tr>\n",
       "      <th>3</th>\n",
       "      <td>1958</td>\n",
       "      <td>1</td>\n",
       "    </tr>\n",
       "    <tr>\n",
       "      <th>4</th>\n",
       "      <td>1959</td>\n",
       "      <td>1</td>\n",
       "    </tr>\n",
       "    <tr>\n",
       "      <th>...</th>\n",
       "      <td>...</td>\n",
       "      <td>...</td>\n",
       "    </tr>\n",
       "    <tr>\n",
       "      <th>58</th>\n",
       "      <td>2018</td>\n",
       "      <td>773</td>\n",
       "    </tr>\n",
       "    <tr>\n",
       "      <th>59</th>\n",
       "      <td>2019</td>\n",
       "      <td>836</td>\n",
       "    </tr>\n",
       "    <tr>\n",
       "      <th>60</th>\n",
       "      <td>2020</td>\n",
       "      <td>814</td>\n",
       "    </tr>\n",
       "    <tr>\n",
       "      <th>61</th>\n",
       "      <td>2021</td>\n",
       "      <td>787</td>\n",
       "    </tr>\n",
       "    <tr>\n",
       "      <th>62</th>\n",
       "      <td>2022</td>\n",
       "      <td>371</td>\n",
       "    </tr>\n",
       "  </tbody>\n",
       "</table>\n",
       "<p>63 rows × 2 columns</p>\n",
       "</div>"
      ],
      "text/plain": [
       "    release_year  title_count\n",
       "0           1945            1\n",
       "1           1954            2\n",
       "2           1956            1\n",
       "3           1958            1\n",
       "4           1959            1\n",
       "..           ...          ...\n",
       "58          2018          773\n",
       "59          2019          836\n",
       "60          2020          814\n",
       "61          2021          787\n",
       "62          2022          371\n",
       "\n",
       "[63 rows x 2 columns]"
      ]
     },
     "execution_count": 18,
     "metadata": {},
     "output_type": "execute_result"
    }
   ],
   "source": [
    "df1"
   ]
  },
  {
   "cell_type": "code",
   "execution_count": 19,
   "id": "525c4e1e",
   "metadata": {
    "execution": {
     "iopub.execute_input": "2023-11-12T13:03:32.460079Z",
     "iopub.status.busy": "2023-11-12T13:03:32.458848Z",
     "iopub.status.idle": "2023-11-12T13:03:32.478845Z",
     "shell.execute_reply": "2023-11-12T13:03:32.477234Z"
    },
    "papermill": {
     "duration": 0.041966,
     "end_time": "2023-11-12T13:03:32.482332",
     "exception": false,
     "start_time": "2023-11-12T13:03:32.440366",
     "status": "completed"
    },
    "tags": []
   },
   "outputs": [
    {
     "data": {
      "text/html": [
       "<div>\n",
       "<style scoped>\n",
       "    .dataframe tbody tr th:only-of-type {\n",
       "        vertical-align: middle;\n",
       "    }\n",
       "\n",
       "    .dataframe tbody tr th {\n",
       "        vertical-align: top;\n",
       "    }\n",
       "\n",
       "    .dataframe thead th {\n",
       "        text-align: right;\n",
       "    }\n",
       "</style>\n",
       "<table border=\"1\" class=\"dataframe\">\n",
       "  <thead>\n",
       "    <tr style=\"text-align: right;\">\n",
       "      <th></th>\n",
       "      <th>release_year</th>\n",
       "      <th>title_count</th>\n",
       "    </tr>\n",
       "  </thead>\n",
       "  <tbody>\n",
       "    <tr>\n",
       "      <th>0</th>\n",
       "      <td>1945</td>\n",
       "      <td>1</td>\n",
       "    </tr>\n",
       "    <tr>\n",
       "      <th>1</th>\n",
       "      <td>1985</td>\n",
       "      <td>1</td>\n",
       "    </tr>\n",
       "    <tr>\n",
       "      <th>2</th>\n",
       "      <td>1956</td>\n",
       "      <td>1</td>\n",
       "    </tr>\n",
       "    <tr>\n",
       "      <th>3</th>\n",
       "      <td>1958</td>\n",
       "      <td>1</td>\n",
       "    </tr>\n",
       "    <tr>\n",
       "      <th>4</th>\n",
       "      <td>1959</td>\n",
       "      <td>1</td>\n",
       "    </tr>\n",
       "    <tr>\n",
       "      <th>5</th>\n",
       "      <td>1960</td>\n",
       "      <td>1</td>\n",
       "    </tr>\n",
       "    <tr>\n",
       "      <th>6</th>\n",
       "      <td>1961</td>\n",
       "      <td>1</td>\n",
       "    </tr>\n",
       "    <tr>\n",
       "      <th>7</th>\n",
       "      <td>1963</td>\n",
       "      <td>1</td>\n",
       "    </tr>\n",
       "    <tr>\n",
       "      <th>8</th>\n",
       "      <td>1966</td>\n",
       "      <td>1</td>\n",
       "    </tr>\n",
       "    <tr>\n",
       "      <th>9</th>\n",
       "      <td>1978</td>\n",
       "      <td>1</td>\n",
       "    </tr>\n",
       "    <tr>\n",
       "      <th>10</th>\n",
       "      <td>1977</td>\n",
       "      <td>1</td>\n",
       "    </tr>\n",
       "    <tr>\n",
       "      <th>11</th>\n",
       "      <td>1971</td>\n",
       "      <td>1</td>\n",
       "    </tr>\n",
       "    <tr>\n",
       "      <th>12</th>\n",
       "      <td>1974</td>\n",
       "      <td>1</td>\n",
       "    </tr>\n",
       "    <tr>\n",
       "      <th>13</th>\n",
       "      <td>1973</td>\n",
       "      <td>1</td>\n",
       "    </tr>\n",
       "    <tr>\n",
       "      <th>14</th>\n",
       "      <td>1975</td>\n",
       "      <td>2</td>\n",
       "    </tr>\n",
       "    <tr>\n",
       "      <th>15</th>\n",
       "      <td>1969</td>\n",
       "      <td>2</td>\n",
       "    </tr>\n",
       "    <tr>\n",
       "      <th>16</th>\n",
       "      <td>1967</td>\n",
       "      <td>2</td>\n",
       "    </tr>\n",
       "    <tr>\n",
       "      <th>17</th>\n",
       "      <td>1954</td>\n",
       "      <td>2</td>\n",
       "    </tr>\n",
       "    <tr>\n",
       "      <th>18</th>\n",
       "      <td>1992</td>\n",
       "      <td>3</td>\n",
       "    </tr>\n",
       "    <tr>\n",
       "      <th>19</th>\n",
       "      <td>1976</td>\n",
       "      <td>3</td>\n",
       "    </tr>\n",
       "    <tr>\n",
       "      <th>20</th>\n",
       "      <td>1980</td>\n",
       "      <td>3</td>\n",
       "    </tr>\n",
       "    <tr>\n",
       "      <th>21</th>\n",
       "      <td>1981</td>\n",
       "      <td>3</td>\n",
       "    </tr>\n",
       "    <tr>\n",
       "      <th>22</th>\n",
       "      <td>1972</td>\n",
       "      <td>3</td>\n",
       "    </tr>\n",
       "    <tr>\n",
       "      <th>23</th>\n",
       "      <td>1986</td>\n",
       "      <td>4</td>\n",
       "    </tr>\n",
       "    <tr>\n",
       "      <th>24</th>\n",
       "      <td>1983</td>\n",
       "      <td>4</td>\n",
       "    </tr>\n",
       "    <tr>\n",
       "      <th>25</th>\n",
       "      <td>1979</td>\n",
       "      <td>5</td>\n",
       "    </tr>\n",
       "    <tr>\n",
       "      <th>26</th>\n",
       "      <td>1982</td>\n",
       "      <td>6</td>\n",
       "    </tr>\n",
       "    <tr>\n",
       "      <th>27</th>\n",
       "      <td>1987</td>\n",
       "      <td>6</td>\n",
       "    </tr>\n",
       "    <tr>\n",
       "      <th>28</th>\n",
       "      <td>1984</td>\n",
       "      <td>6</td>\n",
       "    </tr>\n",
       "    <tr>\n",
       "      <th>29</th>\n",
       "      <td>1988</td>\n",
       "      <td>7</td>\n",
       "    </tr>\n",
       "    <tr>\n",
       "      <th>30</th>\n",
       "      <td>1990</td>\n",
       "      <td>7</td>\n",
       "    </tr>\n",
       "    <tr>\n",
       "      <th>31</th>\n",
       "      <td>1996</td>\n",
       "      <td>7</td>\n",
       "    </tr>\n",
       "  </tbody>\n",
       "</table>\n",
       "</div>"
      ],
      "text/plain": [
       "    release_year  title_count\n",
       "0           1945            1\n",
       "1           1985            1\n",
       "2           1956            1\n",
       "3           1958            1\n",
       "4           1959            1\n",
       "5           1960            1\n",
       "6           1961            1\n",
       "7           1963            1\n",
       "8           1966            1\n",
       "9           1978            1\n",
       "10          1977            1\n",
       "11          1971            1\n",
       "12          1974            1\n",
       "13          1973            1\n",
       "14          1975            2\n",
       "15          1969            2\n",
       "16          1967            2\n",
       "17          1954            2\n",
       "18          1992            3\n",
       "19          1976            3\n",
       "20          1980            3\n",
       "21          1981            3\n",
       "22          1972            3\n",
       "23          1986            4\n",
       "24          1983            4\n",
       "25          1979            5\n",
       "26          1982            6\n",
       "27          1987            6\n",
       "28          1984            6\n",
       "29          1988            7\n",
       "30          1990            7\n",
       "31          1996            7"
      ]
     },
     "execution_count": 19,
     "metadata": {},
     "output_type": "execute_result"
    }
   ],
   "source": [
    "df1\\\n",
    ".loc[df1[\"title_count\"] < 10, :]\\\n",
    ".sort_values(by=[\"title_count\"], ascending=[True]).reset_index(drop=True)"
   ]
  },
  {
   "cell_type": "markdown",
   "id": "60a48040",
   "metadata": {
    "papermill": {
     "duration": 0.017342,
     "end_time": "2023-11-12T13:03:32.518869",
     "exception": false,
     "start_time": "2023-11-12T13:03:32.501527",
     "status": "completed"
    },
    "tags": []
   },
   "source": [
    "There are more to explore and experiment with Pandas aggregation queries. For next time!\n",
    "\n",
    "Google Pandas + your query description"
   ]
  },
  {
   "cell_type": "markdown",
   "id": "2b7cc97a",
   "metadata": {
    "papermill": {
     "duration": 0.01647,
     "end_time": "2023-11-12T13:03:32.553499",
     "exception": false,
     "start_time": "2023-11-12T13:03:32.537029",
     "status": "completed"
    },
    "tags": []
   },
   "source": [
    "## Wrap up: export CSVs\n",
    "\n",
    "Our goal here is to export the query output (Pandas DataFrames) as CSV files, to the Kaggle working directory `/kaggle/working`. We may then download to our laptop as needed. (Note: purely for demo sake!)\n",
    "\n",
    "Note: if you go to the right hand side pandel (Output section), you may copy the file path for `/kaggle/working`. It would resolve to `./` (Because our current work directory is `/kaggle/working`). Use this `./` as our folder path for CSV export.\n",
    "\n",
    "We will use the default parameters for `pd.to_csv()` for now. If you are curious please refer to: https://pandas.pydata.org/docs/reference/api/pandas.DataFrame.to_csv.html"
   ]
  },
  {
   "cell_type": "markdown",
   "id": "09dcbec6",
   "metadata": {
    "execution": {
     "iopub.execute_input": "2022-08-11T09:44:07.722659Z",
     "iopub.status.busy": "2022-08-11T09:44:07.72226Z",
     "iopub.status.idle": "2022-08-11T09:44:07.733074Z",
     "shell.execute_reply": "2022-08-11T09:44:07.731434Z",
     "shell.execute_reply.started": "2022-08-11T09:44:07.722612Z"
    },
    "papermill": {
     "duration": 0.016599,
     "end_time": "2023-11-12T13:03:32.586582",
     "exception": false,
     "start_time": "2023-11-12T13:03:32.569983",
     "status": "completed"
    },
    "tags": []
   },
   "source": [
    "### SQL 1 - to CSV\n",
    "\n",
    "```\n",
    "SELECT type, release_year, runtime, title\n",
    "FROM df\n",
    "WHERE type = 'SHOW' AND release_year > 2000\n",
    "ORDER BY release_year DESC, run_time DESC, title\n",
    ";\n",
    "```"
   ]
  },
  {
   "cell_type": "code",
   "execution_count": 20,
   "id": "cd8651e3",
   "metadata": {
    "execution": {
     "iopub.execute_input": "2023-11-12T13:03:32.622818Z",
     "iopub.status.busy": "2023-11-12T13:03:32.622269Z",
     "iopub.status.idle": "2023-11-12T13:03:32.662569Z",
     "shell.execute_reply": "2023-11-12T13:03:32.660787Z"
    },
    "papermill": {
     "duration": 0.062111,
     "end_time": "2023-11-12T13:03:32.665890",
     "exception": false,
     "start_time": "2023-11-12T13:03:32.603779",
     "status": "completed"
    },
    "tags": []
   },
   "outputs": [
    {
     "name": "stdout",
     "output_type": "stream",
     "text": [
      "(2066, 4)\n",
      "type            object\n",
      "release_year     int64\n",
      "runtime          int64\n",
      "title           object\n",
      "dtype: object\n",
      "   type  release_year  runtime                                 title\n",
      "0  SHOW          2022       93                             jeen-yuhs\n",
      "1  SHOW          2022       92                     Jump Like a Witch\n",
      "2  SHOW          2022       85  Jimmy Savile: A British Horror Story\n",
      "3  SHOW          2022       80                      Alchemy of Souls\n",
      "4  SHOW          2022       76                Twenty Five Twenty One\n"
     ]
    }
   ],
   "source": [
    "my_where = ((df[\"type\"] == \"SHOW\") & (df[\"release_year\"] > 2000))\n",
    "my_select = [\"type\", \"release_year\", \"runtime\", \"title\"]\n",
    "my_sort = {\n",
    "    \"by\": [\"release_year\", \"runtime\", \"title\"],\n",
    "    \"ascending\": [False, False, False]\n",
    "}\n",
    "\n",
    "df_sql_1 = df\\\n",
    ".loc[my_where, my_select]\\\n",
    ".sort_values(**my_sort).reset_index(drop=True)\n",
    "\n",
    "# print first 5 rows to console\n",
    "print(df_sql_1.shape)\n",
    "print(df_sql_1.dtypes)\n",
    "print(df_sql_1.head(5))\n",
    "\n",
    "# export the whole dataset to CSV file\n",
    "df_sql_1.to_csv(\"./df_sql_1.csv\")"
   ]
  },
  {
   "cell_type": "markdown",
   "id": "cb094306",
   "metadata": {
    "execution": {
     "iopub.execute_input": "2022-08-11T09:47:11.986164Z",
     "iopub.status.busy": "2022-08-11T09:47:11.985751Z",
     "iopub.status.idle": "2022-08-11T09:47:11.993719Z",
     "shell.execute_reply": "2022-08-11T09:47:11.992196Z",
     "shell.execute_reply.started": "2022-08-11T09:47:11.986131Z"
    },
    "papermill": {
     "duration": 0.017575,
     "end_time": "2023-11-12T13:03:32.701753",
     "exception": false,
     "start_time": "2023-11-12T13:03:32.684178",
     "status": "completed"
    },
    "tags": []
   },
   "source": [
    "### SQL 2 - to CSV\n",
    "    \n",
    "```\n",
    "SELECT release_year, COUNT(*) AS title_count\n",
    "FROM df\n",
    "GROUP BY release_year\n",
    "HAVING count(*) < 10\n",
    "ORDER BY release_year DESC, run_time DESC, title\n",
    "```"
   ]
  },
  {
   "cell_type": "code",
   "execution_count": 21,
   "id": "01738e8d",
   "metadata": {
    "execution": {
     "iopub.execute_input": "2023-11-12T13:03:32.739812Z",
     "iopub.status.busy": "2023-11-12T13:03:32.739335Z",
     "iopub.status.idle": "2023-11-12T13:03:32.756071Z",
     "shell.execute_reply": "2023-11-12T13:03:32.754254Z"
    },
    "papermill": {
     "duration": 0.039535,
     "end_time": "2023-11-12T13:03:32.759037",
     "exception": false,
     "start_time": "2023-11-12T13:03:32.719502",
     "status": "completed"
    },
    "tags": []
   },
   "outputs": [
    {
     "name": "stdout",
     "output_type": "stream",
     "text": [
      "(32, 2)\n",
      "release_year    int64\n",
      "title_count     int64\n",
      "dtype: object\n",
      "   release_year  title_count\n",
      "0          1945            1\n",
      "1          1985            1\n",
      "2          1956            1\n",
      "3          1958            1\n",
      "4          1959            1\n"
     ]
    }
   ],
   "source": [
    "_df_sql_2 = df\\\n",
    ".groupby(by=[\"release_year\"])\\\n",
    ".size()\\\n",
    ".reset_index(name='title_count')\n",
    "\n",
    "df_sql_2 = _df_sql_2\\\n",
    ".loc[_df_sql_2[\"title_count\"] < 10]\\\n",
    ".sort_values(by=[\"title_count\"], ascending=[True]).reset_index(drop=True)\n",
    "\n",
    "# print first 5 rows to console\n",
    "print(df_sql_2.shape)\n",
    "print(df_sql_2.dtypes)\n",
    "print(df_sql_2.head(5))\n",
    "\n",
    "# export the whole dataset to CSV file\n",
    "df_sql_2.to_csv(\"./df_sql_2.csv\")"
   ]
  },
  {
   "cell_type": "markdown",
   "id": "77215ad8",
   "metadata": {
    "papermill": {
     "duration": 0.016349,
     "end_time": "2023-11-12T13:03:32.792123",
     "exception": false,
     "start_time": "2023-11-12T13:03:32.775774",
     "status": "completed"
    },
    "tags": []
   },
   "source": [
    "If you go to the right hand panel Output section now, you should see `df_sql_1.csv` and `df_sql_2.csv2`. Take a look. Or download to your laptop and open."
   ]
  },
  {
   "cell_type": "code",
   "execution_count": null,
   "id": "75c75fd3",
   "metadata": {
    "papermill": {
     "duration": 0.018221,
     "end_time": "2023-11-12T13:03:32.827141",
     "exception": false,
     "start_time": "2023-11-12T13:03:32.808920",
     "status": "completed"
    },
    "tags": []
   },
   "outputs": [],
   "source": []
  }
 ],
 "metadata": {
  "kernelspec": {
   "display_name": "Python 3",
   "language": "python",
   "name": "python3"
  },
  "language_info": {
   "codemirror_mode": {
    "name": "ipython",
    "version": 3
   },
   "file_extension": ".py",
   "mimetype": "text/x-python",
   "name": "python",
   "nbconvert_exporter": "python",
   "pygments_lexer": "ipython3",
   "version": "3.7.12"
  },
  "papermill": {
   "default_parameters": {},
   "duration": 16.749175,
   "end_time": "2023-11-12T13:03:33.774678",
   "environment_variables": {},
   "exception": null,
   "input_path": "__notebook__.ipynb",
   "output_path": "__notebook__.ipynb",
   "parameters": {},
   "start_time": "2023-11-12T13:03:17.025503",
   "version": "2.3.4"
  }
 },
 "nbformat": 4,
 "nbformat_minor": 5
}
